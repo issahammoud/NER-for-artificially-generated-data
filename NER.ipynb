{
 "cells": [
  {
   "cell_type": "markdown",
   "metadata": {},
   "source": [
    "<div class=\"alert alert-info\">\n",
    "    <h1>Imports</h1>\n",
    "    </div>"
   ]
  },
  {
   "cell_type": "code",
   "execution_count": 1,
   "metadata": {},
   "outputs": [],
   "source": [
    "import os\n",
    "os.environ[\"CUDA_VISIBLE_DEVICES\"]=\"0\""
   ]
  },
  {
   "cell_type": "code",
   "execution_count": 2,
   "metadata": {},
   "outputs": [
    {
     "name": "stderr",
     "output_type": "stream",
     "text": [
      "Using TensorFlow backend.\n"
     ]
    }
   ],
   "source": [
    "import re\n",
    "import gzip\n",
    "import shutil\n",
    "import tarfile\n",
    "import numpy as np\n",
    "import pandas as pd\n",
    "import matplotlib.pyplot as plt\n",
    "import seaborn as sns\n",
    "from sklearn.metrics import precision_recall_fscore_support, accuracy_score, confusion_matrix, recall_score,precision_score,f1_score\n",
    "from gensim.models.keyedvectors import KeyedVectors\n",
    "import keras\n",
    "import tensorflow as tf\n",
    "from keras import backend\n",
    "from keras.preprocessing.text import Tokenizer\n",
    "from keras.preprocessing.sequence import pad_sequences\n",
    "from keras.models import Sequential, Model\n",
    "from keras.layers import Embedding, Dropout, LSTM, Bidirectional, TimeDistributed, Dense, Flatten\n",
    "from keras import layers\n",
    "from keras.layers.merge import concatenate\n",
    "from keras import preprocessing\n",
    "\n",
    "import sys\n",
    "import warnings\n",
    "if not sys.warnoptions:\n",
    "    warnings.simplefilter(\"ignore\")"
   ]
  },
  {
   "cell_type": "markdown",
   "metadata": {},
   "source": [
    "<div class=\"alert alert-info\">\n",
    "    <h1>Data preparation</h1>\n",
    "    </div>"
   ]
  },
  {
   "cell_type": "code",
   "execution_count": 4,
   "metadata": {
    "scrolled": true
   },
   "outputs": [],
   "source": [
    "# download the data and extract zip files\n",
    "if('generation-projet-trn.tar.gz' not in os.listdir()):\n",
    "    ! wget https://sophierosset.github.io/docs/1718/generation-projet-trn.tar.gz\n",
    "    ! wget https://sophierosset.github.io/docs/1718/generation-projet-dev.tar.gz\n",
    "    ! wget https://sophierosset.github.io/docs/1718/generation-projet-test.tar.gz\n",
    "\n",
    "    for file in os.listdir():\n",
    "        if(file.endswith(\"tar.gz\")):\n",
    "            tar = tarfile.open(file, \"r:gz\")\n",
    "            tar.extractall()\n",
    "            tar.close()"
   ]
  },
  {
   "cell_type": "code",
   "execution_count": 5,
   "metadata": {},
   "outputs": [],
   "source": [
    "def get_data(filename):\n",
    "    \"\"\"\n",
    "    This function takes as input a directory name and\n",
    "    return all the contents of the xml files in a list.\n",
    "    \"\"\"\n",
    "    l = []\n",
    "    for file in os.listdir(filename):\n",
    "        if(file.endswith(\"xml\")):\n",
    "            with open(os.path.join(filename,file)) as f:\n",
    "                l += f.read().split(\"\\n\")\n",
    "    \n",
    "    return [el for el in l if len(el) != 0]"
   ]
  },
  {
   "cell_type": "code",
   "execution_count": 6,
   "metadata": {},
   "outputs": [
    {
     "name": "stdout",
     "output_type": "stream",
     "text": [
      "nbre of sentences in training set: 2772244\n",
      "nbre of sentences in validation set: 1839\n",
      "nbre of sentences in testing set: 2450\n"
     ]
    }
   ],
   "source": [
    "train = get_data(\"generation-projet-trn\")\n",
    "val = get_data(\"generation-projet-dev\")\n",
    "test = get_data(\"generation-projet-test\")\n",
    "print(\"nbre of sentences in training set: {}\\nnbre of sentences in \\\n",
    "validation set: {}\\nnbre of sentences in testing set: {}\"\\\n",
    "      .format(len(train),len(val),len(test)))"
   ]
  },
  {
   "cell_type": "code",
   "execution_count": 7,
   "metadata": {},
   "outputs": [
    {
     "name": "stdout",
     "output_type": "stream",
     "text": [
      "The set of tags in the xml files are: {'<neg_cat-ingredient>', '<recipe>', '<neg_ingredient>', '<cat-ingredient>', '<ingredient>'}\n"
     ]
    }
   ],
   "source": [
    "tags = set()\n",
    "l = re.findall('<[^/].*?>',str(train))\n",
    "for el in l:\n",
    "    tags.add(el)\n",
    "    \n",
    "closed_tags = set()\n",
    "l = re.findall('</.*?>',str(train))\n",
    "for el in l:\n",
    "    closed_tags.add(el)\n",
    "print(\"The set of tags in the xml files are: {}\".format(tags))"
   ]
  },
  {
   "cell_type": "code",
   "execution_count": 8,
   "metadata": {},
   "outputs": [],
   "source": [
    "# create dictionaries to map tags to indices and vice versa\n",
    "tag2index  = {}\n",
    "index2tag = {}\n",
    "tag2index['<O>'] = 0\n",
    "index2tag[0] = '<O>'\n",
    "for i,tag in enumerate(tags):\n",
    "    tag2index[tag] = i+1\n",
    "    index2tag[i+1] = tag"
   ]
  },
  {
   "cell_type": "code",
   "execution_count": 9,
   "metadata": {},
   "outputs": [],
   "source": [
    "def prepare_data(l):\n",
    "    \"\"\"\n",
    "    This function takes a list of sentences as input and\n",
    "    return a list of sentences without tags in X and \n",
    "    corresponding entity for each word in y.\n",
    "    \"\"\"\n",
    "    X = []\n",
    "    y = []\n",
    "    \n",
    "    for el in l:\n",
    "        tmp = []\n",
    "        tmp1 = []\n",
    "        tag = 0\n",
    "        \n",
    "        for w in el.split(\" \"):\n",
    "            if(w in tags or w in closed_tags):\n",
    "                if(w in tags):\n",
    "                    tag = tag2index[w]\n",
    "                else:\n",
    "                    tag = 0\n",
    "            else:\n",
    "                tmp.append(w)\n",
    "                tmp1.append(tag)\n",
    "        \n",
    "        X.append(tmp)\n",
    "        y.append(tmp1)\n",
    "        \n",
    "    return X,y"
   ]
  },
  {
   "cell_type": "code",
   "execution_count": 10,
   "metadata": {},
   "outputs": [],
   "source": [
    "X_train,y_train = prepare_data(train)\n",
    "X_val,y_val = prepare_data(val)\n",
    "X_test,y_test = prepare_data(test)"
   ]
  },
  {
   "cell_type": "code",
   "execution_count": 11,
   "metadata": {},
   "outputs": [
    {
     "name": "stdout",
     "output_type": "stream",
     "text": [
      "nombre maximal de mots dans une phrase:92\n",
      "nombre minimal de mots dans une phrase:2\n",
      "nombre moyenne de mots dans une phrase:8.5\n",
      "nombre médian de mots dans une phrase :8.0\n"
     ]
    }
   ],
   "source": [
    "lengths = [len(x) for x in X_train]\n",
    "print(\"nombre maximal de mots dans une phrase:{0}\\n\\\n",
    "nombre minimal de mots dans une phrase:{1}\\n\\\n",
    "nombre moyenne de mots dans une phrase:{2:.1f}\\n\\\n",
    "nombre médian de mots dans une phrase :{3}\"\\\n",
    "      .format(np.max(lengths),np.min(lengths),np.mean(lengths),np.median(lengths)))"
   ]
  },
  {
   "cell_type": "code",
   "execution_count": 12,
   "metadata": {},
   "outputs": [],
   "source": [
    "maxlen = np.max(lengths)\n",
    "max_words = 50000\n",
    "embedding_dim = 200"
   ]
  },
  {
   "cell_type": "code",
   "execution_count": 13,
   "metadata": {},
   "outputs": [
    {
     "name": "stdout",
     "output_type": "stream",
     "text": [
      "Found 10725 unique tokens.\n"
     ]
    }
   ],
   "source": [
    "tokenizer = Tokenizer(num_words = max_words)\n",
    "\n",
    "tokenizer.fit_on_texts(X_train)\n",
    "\n",
    "sequences = np.array(tokenizer.texts_to_sequences(X_train))\n",
    "\n",
    "word_index = tokenizer.word_index\n",
    "\n",
    "print('Found %s unique tokens.' % len(word_index))"
   ]
  },
  {
   "cell_type": "code",
   "execution_count": 14,
   "metadata": {},
   "outputs": [],
   "source": [
    "# add zero padding \n",
    "X_train = preprocessing.sequence.pad_sequences(sequences, maxlen=maxlen)\n",
    "y_train = preprocessing.sequence.pad_sequences(y_train, maxlen=maxlen)\n",
    "\n",
    "sequences = np.array(tokenizer.texts_to_sequences(X_val))\n",
    "X_val = preprocessing.sequence.pad_sequences(sequences, maxlen=maxlen)\n",
    "y_val = preprocessing.sequence.pad_sequences(y_val, maxlen=maxlen)\n",
    "\n",
    "sequences = np.array(tokenizer.texts_to_sequences(X_test))\n",
    "X_test = preprocessing.sequence.pad_sequences(sequences, maxlen=maxlen)\n",
    "y_test = preprocessing.sequence.pad_sequences(y_test, maxlen=maxlen)"
   ]
  },
  {
   "cell_type": "code",
   "execution_count": 16,
   "metadata": {},
   "outputs": [
    {
     "data": {
      "text/plain": [
       "((2772244, 92), (2772244, 92), (2450, 92), (2450, 92), (1839, 92), (1839, 92))"
      ]
     },
     "execution_count": 16,
     "metadata": {},
     "output_type": "execute_result"
    }
   ],
   "source": [
    "X_train.shape,y_train.shape,X_test.shape,y_test.shape,X_val.shape,y_val.shape"
   ]
  },
  {
   "cell_type": "markdown",
   "metadata": {},
   "source": [
    "<div class=\"alert alert-info\">\n",
    "    <h1>Pretrained word embeddings</h1>\n",
    "    </div>"
   ]
  },
  {
   "cell_type": "code",
   "execution_count": 17,
   "metadata": {},
   "outputs": [],
   "source": [
    "# output.txt is the name of the file containing the embeddings, \n",
    "# if you don't have it just run this cell and everything is done\n",
    "\n",
    "if('output.txt' not in os.listdir()):\n",
    "    ! wget http://embeddings.net/frWac_non_lem_no_postag_no_phrase_200_cbow_cut0.bin\n",
    "    ! git clone https://github.com/marekrei/convertvec\n",
    "    os.chdir(os.path.join(os.getcwd(),\"convertvec\"))\n",
    "    ! make\n",
    "    ! ./convertvec bin2txt ../frWac_non_lem_no_postag_no_phrase_200_cbow_cut0.bin ../output.txt\n",
    "    os.chdir(\"/\".join(os.getcwd().split(\"/\")[:-1]))"
   ]
  },
  {
   "cell_type": "code",
   "execution_count": 18,
   "metadata": {
    "scrolled": true
   },
   "outputs": [
    {
     "name": "stdout",
     "output_type": "stream",
     "text": [
      "Found 2516802 word vectors.\n"
     ]
    }
   ],
   "source": [
    "embeddings_index = {}\n",
    "\n",
    "with open('output.txt','r',encoding='ISO-8859-1') as f:\n",
    "    for i,line in enumerate(f):\n",
    "        if(i != 0):\n",
    "            values = line.split()\n",
    "            \n",
    "            # some words are more than one token, like c'est a dire, so we concatenate all tokens together\n",
    "            word = \"\".join([values[i] for i in range(len(values) - 200)])\n",
    "\n",
    "            coefs = np.asarray(values[len(values) - 200:], dtype='float32')\n",
    "\n",
    "            embeddings_index[word] = coefs\n",
    "            \n",
    "\n",
    "# create a zero embeddings for words that don't appear\n",
    "# in the vocabulary of the pretrained embeddings\n",
    "embeddings_index[\"unk\"] = np.zeros(200)\n",
    "print('Found %s word vectors.' % len(embeddings_index))"
   ]
  },
  {
   "cell_type": "code",
   "execution_count": 19,
   "metadata": {},
   "outputs": [
    {
     "data": {
      "text/plain": [
       "(10725, 200)"
      ]
     },
     "execution_count": 19,
     "metadata": {},
     "output_type": "execute_result"
    }
   ],
   "source": [
    "# take max_words as the minimum between our vocab in \n",
    "# the training corpus and our initial choice of 50000\n",
    "max_words = np.min([50000,len(word_index)])\n",
    "\n",
    "embedding_matrix = np.zeros((max_words, embedding_dim))\n",
    "\n",
    "for word, i in word_index.items():\n",
    "    if i < max_words:\n",
    "        \n",
    "        embedding_vector = embeddings_index.get(word)\n",
    "        \n",
    "        if embedding_vector is not None:\n",
    "            embedding_matrix[i] = embedding_vector\n",
    "        else:\n",
    "            embedding_matrix[i] = embeddings_index.get(\"unk\")\n",
    "\n",
    "embedding_matrix.shape"
   ]
  },
  {
   "cell_type": "code",
   "execution_count": 22,
   "metadata": {},
   "outputs": [
    {
     "name": "stdout",
     "output_type": "stream",
     "text": [
      "_________________________________________________________________\n",
      "Layer (type)                 Output Shape              Param #   \n",
      "=================================================================\n",
      "embedding_2 (Embedding)      (None, 92, 200)           2145000   \n",
      "_________________________________________________________________\n",
      "bidirectional_1 (Bidirection (None, 92, 300)           1202400   \n",
      "_________________________________________________________________\n",
      "dropout_1 (Dropout)          (None, 92, 300)           0         \n",
      "_________________________________________________________________\n",
      "bidirectional_2 (Bidirection (None, 92, 300)           1442400   \n",
      "_________________________________________________________________\n",
      "dropout_2 (Dropout)          (None, 92, 300)           0         \n",
      "_________________________________________________________________\n",
      "time_distributed_1 (TimeDist (None, 92, 6)             1806      \n",
      "=================================================================\n",
      "Total params: 4,791,606\n",
      "Trainable params: 4,791,606\n",
      "Non-trainable params: 0\n",
      "_________________________________________________________________\n"
     ]
    }
   ],
   "source": [
    "model = Sequential()\n",
    "model.add(Embedding(max_words , embedding_dim, weights = [embedding_matrix], input_length=maxlen))\n",
    "model.add(Bidirectional(LSTM(300, return_sequences=True),merge_mode='ave'))\n",
    "model.add(Dropout(0.5))\n",
    "model.add(Bidirectional(LSTM(300, return_sequences=True),merge_mode='ave'))\n",
    "model.add(Dropout(0.5))\n",
    "model.add(TimeDistributed(Dense(6, activation = 'softmax'), input_shape=(92, 300)))\n",
    "model.summary()"
   ]
  },
  {
   "cell_type": "code",
   "execution_count": 23,
   "metadata": {},
   "outputs": [],
   "source": [
    "# one hot encoding\n",
    "y_train = (np.arange(y_train.max()+1) == y_train[...,None]).astype(int)\n",
    "y_val = (np.arange(y_val.max()+1) == y_val[...,None]).astype(int)"
   ]
  },
  {
   "cell_type": "markdown",
   "metadata": {},
   "source": [
    "_If the weights are calculated, just load them. Note that Keras loaded them \n",
    "but reinitialized all the parameters randomly, so it doesn't work. \n",
    "You can find this issue <a href = \"https://github.com/keras-team/keras/issues/4875?fbclid=IwAR3yGYcUTm1tccpM-6iWWGd8ICfxj2qeFHcTUm1TXUjfmjv-SJOA4aL9vKw\">here</a>._"
   ]
  },
  {
   "cell_type": "code",
   "execution_count": 24,
   "metadata": {},
   "outputs": [
    {
     "name": "stdout",
     "output_type": "stream",
     "text": [
      "Train on 2772244 samples, validate on 1839 samples\n",
      "Epoch 1/1\n",
      "2772244/2772244 [==============================] - 28598s 10ms/step - loss: 0.0015 - acc: 0.9997 - val_loss: 0.0842 - val_acc: 0.9927\n"
     ]
    }
   ],
   "source": [
    "if('weights.h5' not in os.listdir()):\n",
    "    \n",
    "    model.compile('adam', 'categorical_crossentropy', metrics=['accuracy'])\n",
    "    \n",
    "    model.fit(X_train, y_train,\n",
    "              batch_size=256,\n",
    "              epochs=1,\n",
    "              validation_data=[X_val, y_val])\n",
    "    \n",
    "    model.save_weights(\"weights.h5\")\n",
    "\n",
    "# else:\n",
    "    \n",
    "#     model.load_weights(\"weights.h5\")"
   ]
  },
  {
   "cell_type": "code",
   "execution_count": 25,
   "metadata": {},
   "outputs": [],
   "source": [
    "ypred = model.predict(X_test)"
   ]
  },
  {
   "cell_type": "code",
   "execution_count": 26,
   "metadata": {},
   "outputs": [
    {
     "name": "stdout",
     "output_type": "stream",
     "text": [
      "accuracy:  0.9829503105590062\n"
     ]
    }
   ],
   "source": [
    "print(\"accuracy: \",accuracy_score(np.ravel(y_test), np.ravel(np.argmax(ypred,axis=2))))"
   ]
  },
  {
   "cell_type": "code",
   "execution_count": 27,
   "metadata": {},
   "outputs": [
    {
     "name": "stdout",
     "output_type": "stream",
     "text": [
      "choisir toujours la classe <O>:  0.9580479148181011\n"
     ]
    }
   ],
   "source": [
    "print(\"choisir toujours la classe <O>: \",(np.ravel(np.argmax(ypred,axis=2)) == 0).sum()/np.ravel(np.argmax(ypred,axis=2)).shape[0])"
   ]
  },
  {
   "cell_type": "code",
   "execution_count": 54,
   "metadata": {},
   "outputs": [
    {
     "name": "stdout",
     "output_type": "stream",
     "text": [
      "precision: 0.418\n",
      "recall: 0.430\n",
      "f1 score: 0.417\n"
     ]
    }
   ],
   "source": [
    "prec, rec, f1, _ = precision_recall_fscore_support(np.ravel(y_test), \\\n",
    "                                                   np.ravel(np.argmax(ypred,axis=2)),average='macro')\n",
    "print(\"precision: {0:.3f}\\nrecall: {1:.3f}\\nf1 score: {2:.3f}\".format(prec,rec,f1))"
   ]
  },
  {
   "cell_type": "code",
   "execution_count": 58,
   "metadata": {},
   "outputs": [
    {
     "data": {
      "text/plain": [
       "(0.4177392754248133, 0.4304269755119006, 0.41703146657818246)"
      ]
     },
     "execution_count": 58,
     "metadata": {},
     "output_type": "execute_result"
    }
   ],
   "source": [
    "prec, rec, f1"
   ]
  },
  {
   "cell_type": "code",
   "execution_count": 31,
   "metadata": {},
   "outputs": [
    {
     "data": {
      "image/png": "[encoded data removed]",
      "text/plain": [
       "<matplotlib.figure.Figure at 0x7f1c4c3a0a20>"
      ]
     },
     "metadata": {
      "needs_background": "light"
     },
     "output_type": "display_data"
    }
   ],
   "source": [
    "conf = confusion_matrix(np.ravel(y_test), np.ravel(np.argmax(ypred,axis=2)),labels=[0,1,2,3,4,5])\n",
    "df_cm = pd.DataFrame(conf, index = [index2tag[i] for i in np.arange(6)],\n",
    "                  columns = [index2tag[i] for i in np.arange(6)])\n",
    "\n",
    "plt.figure(figsize = (10,7))\n",
    "sns.heatmap(df_cm, annot=True)\n",
    "plt.show()"
   ]
  },
  {
   "cell_type": "code",
   "execution_count": 55,
   "metadata": {},
   "outputs": [],
   "source": [
    "def SER(y_pred,y_test): \n",
    "    return (1-f1_score(y_test,y_pred,average=\"macro\"))*1.5"
   ]
  },
  {
   "cell_type": "code",
   "execution_count": 169,
   "metadata": {},
   "outputs": [
    {
     "name": "stdout",
     "output_type": "stream",
     "text": [
      "SER : 0.8744528001327263\n"
     ]
    }
   ],
   "source": [
    "print(\"SER : %s\"%SER(np.ravel(y_test), np.ravel(np.argmax(ypred,axis=2))))"
   ]
  },
  {
   "cell_type": "markdown",
   "metadata": {},
   "source": [
    "<div class=\"alert alert-info\">\n",
    "    <h1>Interpretation</h1>\n",
    "    </div>"
   ]
  },
  {
   "cell_type": "code",
   "execution_count": 182,
   "metadata": {},
   "outputs": [],
   "source": [
    "# the indices of true and false predicted sentences\n",
    "true_index = [i for i in range(y_test.shape[0]) if np.all(y_test[i] == np.argmax(ypred,axis=2)[i])]\n",
    "false_index = [i for i in range(y_test.shape[0]) if np.any(y_test[i] != np.argmax(ypred,axis=2)[i])]"
   ]
  },
  {
   "cell_type": "markdown",
   "metadata": {},
   "source": [
    "_There is a data leakage? Not really_"
   ]
  },
  {
   "cell_type": "code",
   "execution_count": 168,
   "metadata": {},
   "outputs": [
    {
     "name": "stdout",
     "output_type": "stream",
     "text": [
      "These sentences exist in the training set\n",
      "pas de <neg_ingredient> raifort </neg_ingredient> , juste des <ingredient> lamproie </ingredient>\n",
      "pas de <neg_ingredient> melon </neg_ingredient> , juste des <ingredient> lamproie </ingredient>\n",
      "pas de <neg_ingredient> anguille </neg_ingredient> , juste des <ingredient> bergamote </ingredient>\n",
      "pouvez-vous me donner la recette de <recipe> noix de saint jacques au pastis </recipe> ?\n"
     ]
    }
   ],
   "source": [
    "print(\"These sentences exist in the training set\")\n",
    "for i in np.array(test)[true_index]:\n",
    "    if(i in train):\n",
    "        print(i)"
   ]
  },
  {
   "cell_type": "code",
   "execution_count": 215,
   "metadata": {},
   "outputs": [],
   "source": [
    "# unique (words between the tags) that are falsely predicted\n",
    "mots_false = np.unique([re.findall('<.*> (.*?) </.*>',i) for i in np.array(test)[false_index]])"
   ]
  },
  {
   "cell_type": "code",
   "execution_count": 230,
   "metadata": {},
   "outputs": [],
   "source": [
    "# unique (words between the tags) that are correctly predicted\n",
    "mots_true = np.unique([re.findall('<.*> (.*?) </.*>',i) for i in np.array(test)[true_index]])"
   ]
  },
  {
   "cell_type": "code",
   "execution_count": 235,
   "metadata": {},
   "outputs": [],
   "source": [
    "# words that exist in correctly predicted sentences and in the falsely predicted\n",
    "mot_exist = []\n",
    "for mot in mots_true:\n",
    "    if(len([i for i in np.array(test)[false_index] if re.match(\".*\"+mot+\".*\",i)]) != 0):\n",
    "        mot_exist.append(mot)"
   ]
  },
  {
   "cell_type": "code",
   "execution_count": 304,
   "metadata": {},
   "outputs": [],
   "source": [
    "# a dictionary that contains sentences of words that are sometimes correctly predicted sometimes not\n",
    "# test is the list of test sentences\n",
    "dico = {}\n",
    "for i in test:\n",
    "    for mot in mot_exist:\n",
    "        if(re.match(\".*\"+mot+\".*\",i)):\n",
    "            if(mot in dico.keys()):\n",
    "                dico[mot] +=  \"\\n\" +str(i in np.array(test)[true_index])+\": \"+i\n",
    "            else:\n",
    "                dico[mot]  = str(i in np.array(test)[true_index])+\": \"+i"
   ]
  },
  {
   "cell_type": "code",
   "execution_count": 305,
   "metadata": {},
   "outputs": [
    {
     "data": {
      "text/plain": [
       "dict_keys(['ami de chambertin', 'hareng', 'ortie', 'piment', 'dolique lablab', 'pose', 'saint andrews', 'emmental', 'bouquet des moines', 'sandre', 'oseille', 'pomme de cajou', 'mahaleb', 'capelan', 'amande', 'dashi', 'côte de porc', 'noix de muscade', 'curé nantais', 'empereur gueule longue', 'escalope de poulet', 'kipper', 'fenouil', 'maïs doux', 'mérou oualioua', 'Manicotti', 'romaine', 'tyrolien', 'cantal', 'lamproie', 'white stilton', 'pavot', 'houmous', 'grogneur', 'moutarde', 'bergamote', 'Rigatoni', 'allgäuer bergkäse', 'lys asiatique comestible', 'paladin', 'las bardenas', 'polkobin', 'bosworth', 'bokrijk', 'villalon', 'wilstermarsch', 'old sarum', 'combava', 'oustet', 'chili', 'olive', 'elgar', 'abricot', 'ananas', 'homard', 'ossolano', 'caviar', 'quiche aux oignons confits', 'tomme de brebis', 'blue dorset vinney', 'lotte au riesling et epinards', 'aubergines farcies aux legumes ou mixte', 'salade d automne rapide', 'filet de colin au pesto', 'tarte aux fraises', 'tarte aux fraises revisitee', 'assiette de poisson au kiwi', 'gaufres molles a conserver', 'anguille', 'langoustine', 'pain d epices fabuleux aux ecorces d orange confite et au chocolat blanc', 'financier', 'gratin poisson chili', 'lapin au cidre', 'filet de boeuf en croute au foie gras et aux truffes', 'tartare de saumon leger et rapide', 'saute de cabri'])"
      ]
     },
     "execution_count": 305,
     "metadata": {},
     "output_type": "execute_result"
    }
   ],
   "source": [
    "dico.keys()"
   ]
  },
  {
   "cell_type": "code",
   "execution_count": 310,
   "metadata": {},
   "outputs": [
    {
     "data": {
      "text/plain": [
       "[\"True: j'aime pas l' <neg_ingredient> ami de chambertin </neg_ingredient>\",\n",
       " \"False: d' <ingredient> ami de chambertin </ingredient>\",\n",
       " 'False: dis-moi je voudrais faire une <recipe> quiche aux oignons confits </recipe> mais sans <neg_ingredient> ami de chambertin </neg_ingredient>',\n",
       " \"False: donne-moi une recette de <recipe> patates douces au citron vert et romarin </recipe> avec d' <ingredient> ami de chambertin </ingredient>\",\n",
       " \"False: est-ce que tu peux me dire par quoi remplacer l' <ingredient> ami de chambertin </ingredient> dans la <recipe> quiche aux poireaux et fromage blanc </recipe> ?\"]"
      ]
     },
     "execution_count": 310,
     "metadata": {},
     "output_type": "execute_result"
    }
   ],
   "source": [
    "# like this we can compare each set of sentences that contains words sometimes correctly predicted\n",
    "# True means correctly predicted and false not.\n",
    "dico['ami de chambertin'].split(\"\\n\")"
   ]
  },
  {
   "cell_type": "code",
   "execution_count": 309,
   "metadata": {},
   "outputs": [
    {
     "name": "stdout",
     "output_type": "stream",
     "text": [
      "0 0\n"
     ]
    }
   ],
   "source": [
    "# check if all sentence that begin with d' or de aren't correctly predicted\n",
    "# length of the lists that contain sentences begin with \"de\" are 0, same for d'\n",
    "\n",
    "print(len([i for i in train if i.startswith(\"de\")]),\\\n",
    "      len([i for i in np.array(test)[true_index] if i.startswith(\"de\")]))"
   ]
  },
  {
   "cell_type": "code",
   "execution_count": null,
   "metadata": {},
   "outputs": [],
   "source": []
  }
 ],
 "metadata": {
  "kernelspec": {
   "display_name": "Python 3",
   "language": "python",
   "name": "python3"
  },
  "language_info": {
   "codemirror_mode": {
    "name": "ipython",
    "version": 3
   },
   "file_extension": ".py",
   "mimetype": "text/x-python",
   "name": "python",
   "nbconvert_exporter": "python",
   "pygments_lexer": "ipython3",
   "version": "3.6.0"
  }
 },
 "nbformat": 4,
 "nbformat_minor": 2
}
